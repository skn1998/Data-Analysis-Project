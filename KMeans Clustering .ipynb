{
 "cells": [
  {
   "cell_type": "markdown",
   "metadata": {},
   "source": [
    "# Data loading and Preprocessing "
   ]
  },
  {
   "cell_type": "markdown",
   "metadata": {},
   "source": [
    "### Importing libraries"
   ]
  },
  {
   "cell_type": "code",
   "execution_count": 1,
   "metadata": {},
   "outputs": [],
   "source": [
    "import numpy as np\n",
    "import pandas as pd\n",
    "import matplotlib.pyplot as plt"
   ]
  },
  {
   "cell_type": "markdown",
   "metadata": {},
   "source": [
    "### Data loading "
   ]
  },
  {
   "cell_type": "code",
   "execution_count": 2,
   "metadata": {},
   "outputs": [],
   "source": [
    "val=pd.read_csv('CANCER.txt')"
   ]
  },
  {
   "cell_type": "markdown",
   "metadata": {},
   "source": [
    "### Removing rows with '?' in them "
   ]
  },
  {
   "cell_type": "code",
   "execution_count": 3,
   "metadata": {},
   "outputs": [],
   "source": [
    "val = val[val.g != '?']"
   ]
  },
  {
   "cell_type": "code",
   "execution_count": 4,
   "metadata": {},
   "outputs": [
    {
     "name": "stderr",
     "output_type": "stream",
     "text": [
      "C:\\Users\\Saurav\\Anaconda3\\lib\\site-packages\\ipykernel_launcher.py:3: SettingWithCopyWarning: \n",
      "A value is trying to be set on a copy of a slice from a DataFrame.\n",
      "Try using .loc[row_indexer,col_indexer] = value instead\n",
      "\n",
      "See the caveats in the documentation: http://pandas.pydata.org/pandas-docs/stable/indexing.html#indexing-view-versus-copy\n",
      "  This is separate from the ipykernel package so we can avoid doing imports until\n"
     ]
    }
   ],
   "source": [
    "X = val[[ 'b', 'c', 'd', 'e', 'f', 'g', 'h', 'i', 'j']]\n",
    "y = val['output']\n",
    "X['g'] = pd.to_numeric(X['g'])"
   ]
  },
  {
   "cell_type": "markdown",
   "metadata": {},
   "source": [
    " # KMeans Algorithm for different values of K"
   ]
  },
  {
   "cell_type": "code",
   "execution_count": 5,
   "metadata": {},
   "outputs": [],
   "source": [
    "n=10\n",
    "size = len(X.index)\n",
    "iterations = 10"
   ]
  },
  {
   "cell_type": "markdown",
   "metadata": {},
   "source": [
    "### Function for calcuating distance"
   ]
  },
  {
   "cell_type": "code",
   "execution_count": 6,
   "metadata": {},
   "outputs": [],
   "source": [
    "def euc_distance(a, b):\n",
    "    temp = (a - b)**2\n",
    "    distance = np.sum(temp)\n",
    "    return(distance**0.5)"
   ]
  },
  {
   "cell_type": "markdown",
   "metadata": {},
   "source": [
    "### Function for calculating means"
   ]
  },
  {
   "cell_type": "code",
   "execution_count": 7,
   "metadata": {},
   "outputs": [],
   "source": [
    "def get_means(cluster, X):\n",
    "    mean = np.zeros(len(X.columns))\n",
    "    #print(mean)\n",
    "    for item in cluster:\n",
    "        mean = mean + X.iloc[item]\n",
    "    \n",
    "    if len(cluster)!=0:\n",
    "        mean = mean/len(cluster)\n",
    "    else:\n",
    "        mean = np.asarray([1000]*len(X.columns))\n",
    "    #print(mean)\n",
    "    return(mean)"
   ]
  },
  {
   "cell_type": "markdown",
   "metadata": {},
   "source": [
    "### Iterations for different values of K"
   ]
  },
  {
   "cell_type": "code",
   "execution_count": 8,
   "metadata": {},
   "outputs": [
    {
     "name": "stdout",
     "output_type": "stream",
     "text": [
      "#################  K-Means ##############\n",
      "\n",
      "Means for K = 1 are : \n",
      "[[4.44216691 3.15080527 3.21522694 2.83016105 3.23426061 3.54465593\n",
      "  3.44509517 2.86969253 1.60322108]]\n",
      "\n",
      "Means for K = 2 are : \n",
      "[[7.17391304 6.8        6.73478261 5.73913043 5.47826087 7.93043478\n",
      "  6.10869565 6.03913043 2.56956522]\n",
      " [3.05518764 1.29801325 1.42825607 1.35320088 2.09492274 1.31788079\n",
      "  2.09271523 1.26048565 1.11258278]]\n",
      "\n",
      "Means for K = 3 are : \n",
      "[[7.2081448  6.93665158 6.85972851 5.88687783 5.49773756 8.03167421\n",
      "  6.18099548 6.11764706 2.6199095 ]\n",
      " [1.77692308 1.11538462 1.17692308 1.15       1.97307692 1.23076923\n",
      "  1.99615385 1.06538462 1.07692308]\n",
      " [4.84653465 1.62871287 1.85148515 1.64851485 2.38118812 1.61386139\n",
      "  2.31683168 1.63861386 1.16831683]]\n",
      "\n",
      "Means for K = 4 are : \n",
      "[[1.25274725 1.12637363 1.2032967  1.14285714 1.98351648 1.24175824\n",
      "  2.00549451 1.06593407 1.1043956 ]\n",
      " [7.125      4.75       5.         4.61538462 4.05769231 8.64423077\n",
      "  4.99038462 4.04807692 1.65384615]\n",
      " [7.19379845 8.35658915 8.07751938 6.62790698 6.55813953 7.28682171\n",
      "  6.92248062 7.56589147 3.30232558]\n",
      " [4.24253731 1.39925373 1.54850746 1.45522388 2.1641791  1.32835821\n",
      "  2.14925373 1.37686567 1.10447761]]\n",
      "\n",
      "Means for K = 5 are : \n",
      "[[6.54347826 4.7173913  4.67391304 3.39130435 4.47826087 3.02173913\n",
      "  4.43478261 5.41304348 1.67391304]\n",
      " [1.80451128 1.13157895 1.19548872 1.14661654 1.98496241 1.26691729\n",
      "  2.02255639 1.07894737 1.07518797]\n",
      " [4.70238095 1.35119048 1.5297619  1.50595238 2.07738095 1.26190476\n",
      "  2.02380952 1.2202381  1.05357143]\n",
      " [7.28888889 4.97777778 5.15555556 4.88888889 4.11111111 9.62222222\n",
      "  5.27777778 3.86666667 1.74444444]\n",
      " [7.14159292 8.48672566 8.33628319 6.89380531 6.69026549 7.67256637\n",
      "  7.04424779 7.7079646  3.52212389]]\n",
      "\n",
      "Means for K = 6 are : \n",
      "[[4.79032258 1.52150538 1.72043011 1.58602151 2.24193548 1.32795699\n",
      "  2.20967742 1.51612903 1.14516129]\n",
      " [1.87029289 1.13807531 1.20083682 1.14644351 2.07531381 1.28033473\n",
      "  2.0251046  1.06276151 1.0083682 ]\n",
      " [1.08       1.         1.08       1.16       1.12       1.16\n",
      "  1.84       1.08       1.72      ]\n",
      " [7.96226415 8.35849057 7.75471698 4.16981132 5.75471698 6.26415094\n",
      "  5.52830189 4.18867925 2.03773585]\n",
      " [6.79120879 8.26373626 8.16483516 7.53846154 6.6043956  7.9010989\n",
      "  7.27472527 8.54945055 3.83516484]\n",
      " [7.06741573 4.23595506 4.58426966 4.80898876 4.06741573 8.85393258\n",
      "  5.13483146 4.46067416 1.58426966]]\n",
      "\n",
      "Means for K = 7 are : \n",
      "[[   4.72121212    1.34545455    1.52727273    1.43030303    2.05454545\n",
      "     1.24242424    2.04242424    1.21818182    1.04242424]\n",
      " [   1.20792079    1.13861386    1.25742574    1.11881188    1.89108911\n",
      "     1.24752475    2.79207921    1.08910891    1.01980198]\n",
      " [1000.         1000.         1000.         1000.         1000.\n",
      "  1000.         1000.         1000.         1000.        ]\n",
      " [   6.92156863    8.45098039    8.2254902     7.41176471    6.56862745\n",
      "     7.62745098    7.17647059    8.02941176    3.76470588]\n",
      " [   2.17964072    1.13772455    1.16167665    1.19161677    2.05389222\n",
      "     1.2754491     1.53892216    1.07784431    1.11976048]\n",
      " [   6.5106383     4.63829787    4.61702128    3.53191489    4.46808511\n",
      "     3.06382979    4.38297872    5.31914894    1.65957447]\n",
      " [   7.4950495     5.3960396     5.61386139    4.58415842    4.51485149\n",
      "     9.45544554    5.33663366    3.96039604    1.69306931]]\n",
      "\n",
      "Means for K = 8 are : \n",
      "[[4.61261261 1.26126126 1.51351351 1.59459459 2.04504505 1.0990991\n",
      "  1.48648649 1.08108108 1.00900901]\n",
      " [6.23076923 6.2        6.52307692 6.47692308 5.13846154 9.13846154\n",
      "  6.64615385 8.12307692 2.04615385]\n",
      " [1.65263158 1.13684211 1.14736842 1.17894737 2.12631579 1.53684211\n",
      "  1.05263158 1.04210526 1.2       ]\n",
      " [4.78787879 1.53030303 1.66666667 1.36363636 2.18181818 1.71212121\n",
      "  3.18181818 1.5        1.09090909]\n",
      " [7.93055556 9.48611111 9.01388889 6.84722222 7.25       6.88888889\n",
      "  6.95833333 7.13888889 4.31944444]\n",
      " [1.84848485 1.12727273 1.2        1.11515152 1.90909091 1.07878788\n",
      "  2.52727273 1.1030303  1.01818182]\n",
      " [6.47619048 4.80952381 4.69047619 3.38095238 4.5        3.\n",
      "  4.42857143 5.71428571 1.73809524]\n",
      " [7.40298507 4.91044776 5.08955224 4.68656716 4.11940299 9.64179104\n",
      "  5.10447761 2.65671642 1.67164179]]\n",
      "\n",
      "Means for K = 9 are : \n",
      "[[1.25274725 1.12637363 1.2032967  1.14285714 1.98351648 1.24175824\n",
      "  2.00549451 1.06593407 1.1043956 ]\n",
      " [7.17241379 8.72413793 8.72413793 8.06896552 8.         8.27586207\n",
      "  6.75862069 8.5862069  7.89655172]\n",
      " [4.07755102 1.24489796 1.38367347 1.35510204 2.0244898  1.2244898\n",
      "  2.00408163 1.15510204 1.02857143]\n",
      " [8.09375    8.125      7.59375    4.125      5.375      3.375\n",
      "  6.09375    8.84375    1.9375    ]\n",
      " [7.58823529 9.44117647 9.         6.91176471 7.41176471 9.44117647\n",
      "  7.17647059 5.         1.76470588]\n",
      " [7.19402985 4.65671642 4.92537313 4.73134328 3.92537313 9.52238806\n",
      "  5.08955224 2.8358209  1.67164179]\n",
      " [6.08333333 7.91666667 6.91666667 8.33333333 6.08333333 2.58333333\n",
      "  5.5        2.91666667 1.91666667]\n",
      " [6.24242424 3.15151515 3.57575758 2.57575758 3.66666667 3.12121212\n",
      "  3.81818182 4.15151515 1.90909091]\n",
      " [6.55102041 6.06122449 6.2244898  5.91836735 4.87755102 9.26530612\n",
      "  6.71428571 8.55102041 1.89795918]]\n",
      "\n",
      "Means for K = 10 are : \n",
      "[[6.93548387 9.         8.41935484 5.41935484 7.03225806 8.90322581\n",
      "  7.03225806 2.58064516 2.32258065]\n",
      " [1.24719101 1.08988764 1.18539326 1.12921348 1.98876404 1.23595506\n",
      "  1.92696629 1.0505618  1.1011236 ]\n",
      " [7.015625   4.21875    4.578125   5.09375    3.921875   9.578125\n",
      "  4.984375   3.265625   1.515625  ]\n",
      " [5.92857143 8.0952381  8.21428571 9.07142857 6.         9.5952381\n",
      "  7.11904762 8.54761905 2.69047619]\n",
      " [6.27272727 7.36363636 6.63636364 8.72727273 6.27272727 1.63636364\n",
      "  5.27272727 3.90909091 2.        ]\n",
      " [4.         1.5505618  1.57303371 1.48314607 2.14606742 1.53932584\n",
      "  3.23595506 1.65168539 1.06741573]\n",
      " [8.         7.10169492 6.89830508 3.89830508 5.16949153 6.25423729\n",
      "  6.3559322  8.79661017 2.08474576]\n",
      " [8.13333333 9.13333333 8.53333333 7.46666667 8.8        6.93333333\n",
      "  6.33333333 9.06666667 9.46666667]\n",
      " [7.76       3.64       4.4        2.28       3.84       3.56\n",
      "  3.96       3.84       2.48      ]\n",
      " [4.0591716  1.20118343 1.34911243 1.36094675 2.01775148 1.13609467\n",
      "  1.53254438 1.0887574  1.02366864]]\n"
     ]
    }
   ],
   "source": [
    "print(\"#################  K-Means ##############\")\n",
    "saved_means = []\n",
    "saved_clusters = []\n",
    "sum_sq_dis=[]\n",
    "for K in range(1, n+1):\n",
    "    initial_index=np.random.choice(size, K)\n",
    "    #print(initial_index)\n",
    "    \n",
    "    means = []\n",
    "    for i in range(K):\n",
    "        means.append(X.iloc[initial_index[i]])\n",
    "        \n",
    "    for it in range(iterations):\n",
    "        cluster=[]\n",
    "        for i in range(K):\n",
    "            cluster.append([])\n",
    "            \n",
    "        for i in range(size):\n",
    "            distance = 1000000000 \n",
    "            index = 0\n",
    "            for j in range(K):\n",
    "                temp = euc_distance(X.iloc[i], means[j])\n",
    "                if temp<distance:\n",
    "                    distance = temp\n",
    "                    index = j\n",
    "            cluster[index].append(i)\n",
    "\n",
    "        means=[]\n",
    "        for i in range(K):\n",
    "            means.append(get_means(cluster[i], X))\n",
    "    saved_means.append(means)\n",
    "    saved_clusters.append(cluster)\n",
    "        \n",
    "    print('\\nMeans for K =', K, 'are : ')\n",
    "    print(np.asarray(means))\n",
    "    #print(cluster)\n",
    "\n",
    "#print(sum_sq_dis)"
   ]
  },
  {
   "cell_type": "markdown",
   "metadata": {},
   "source": [
    "### Elbow Method"
   ]
  },
  {
   "cell_type": "code",
   "execution_count": 9,
   "metadata": {},
   "outputs": [],
   "source": [
    "def elbow_method(means, cluster, X, K):\n",
    "    sum1 = 0.0\n",
    "    for i in range(K):\n",
    "        for item in cluster[i]:\n",
    "            temp = (means[i] - X.iloc[item])**2\n",
    "            sum1 += np.sum(temp)\n",
    "    #print(sum1)\n",
    "    return(sum1)\n",
    "    "
   ]
  },
  {
   "cell_type": "code",
   "execution_count": 10,
   "metadata": {},
   "outputs": [],
   "source": [
    "for i in range(n):\n",
    "    sum_sq_dis.append(elbow_method(saved_means[i], saved_clusters[i], X, i+1))"
   ]
  },
  {
   "cell_type": "code",
   "execution_count": 11,
   "metadata": {},
   "outputs": [
    {
     "data": {
      "text/plain": [
       "Text(0.5, 1.0, 'Elbow Plot')"
      ]
     },
     "execution_count": 11,
     "metadata": {},
     "output_type": "execute_result"
    },
    {
     "data": {
      "image/png": "[encoded data removed]",
      "text/plain": [
       "<Figure size 432x288 with 1 Axes>"
      ]
     },
     "metadata": {
      "needs_background": "light"
     },
     "output_type": "display_data"
    }
   ],
   "source": [
    "plt.figure()\n",
    "plt.plot(range(1, n+1), sum_sq_dis)\n",
    "plt.xlabel('number of clusters (K)')\n",
    "plt.ylabel('Sum of squared Distance')\n",
    "plt.title('Elbow Plot')"
   ]
  },
  {
   "cell_type": "markdown",
   "metadata": {},
   "source": [
    "## Clearly from the plot it can be seen that K=2 gives the best cluster according to Elbow method"
   ]
  },
  {
   "cell_type": "markdown",
   "metadata": {},
   "source": [
    "### Silhouette Score"
   ]
  },
  {
   "cell_type": "code",
   "execution_count": 12,
   "metadata": {},
   "outputs": [
    {
     "name": "stdout",
     "output_type": "stream",
     "text": [
      "############## Shilloute Score ###############\n",
      "For no of clusters = 2  The average silhouette_score is : 0.6381806308198421\n",
      "For no of clusters = 3  The average silhouette_score is : 0.40151424562324856\n",
      "For no of clusters = 4  The average silhouette_score is : 0.37832789525749877\n",
      "For no of clusters = 5  The average silhouette_score is : 0.36434969264731987\n",
      "For no of clusters = 6  The average silhouette_score is : 0.25027038458286377\n",
      "For no of clusters = 7  The average silhouette_score is : 0.31336192511316274\n",
      "For no of clusters = 8  The average silhouette_score is : 0.2520195584288289\n",
      "For no of clusters = 9  The average silhouette_score is : 0.33316654303508986\n",
      "For no of clusters = 10  The average silhouette_score is : 0.3269499948482584\n"
     ]
    }
   ],
   "source": [
    "print(\"############## Shilloute Score ###############\")\n",
    "saved_s=[]\n",
    "for t in range(1, n):\n",
    "    s_avg = 0\n",
    "    left = 0\n",
    "    for i in range(t+1):\n",
    "        if len(saved_clusters[t][i]) ==0:\n",
    "            left=left+1\n",
    "            continue\n",
    "        min1 = 100000000\n",
    "        cluster_index = -1\n",
    "        for j in range(t+1):\n",
    "            if i!=j:\n",
    "                dist = euc_distance(saved_means[t][i], saved_means[t][j])\n",
    "                if dist< min1:\n",
    "                    min1 = dist\n",
    "                    cluster_index = j\n",
    "                    \n",
    "        sum1 = 0.0\n",
    "        for item in saved_clusters[t][i]:\n",
    "            sum1 += euc_distance(saved_means[t][i], X.iloc[item])\n",
    "        a = sum1/len(saved_clusters[t][i]) \n",
    "        \n",
    "        sum1 = 0.0\n",
    "        j= cluster_index\n",
    "        for item in saved_clusters[t][j]:\n",
    "            sum1 += euc_distance(saved_means[t][i], X.iloc[item])\n",
    "        b = sum1/len(saved_clusters[t][j])\n",
    "        \n",
    "        s = (b - a)/max(a, b)   \n",
    "        s_avg = s_avg + s\n",
    "    s_avg = s_avg/(t+1-left) \n",
    "    saved_s.append(s_avg)\n",
    "    print(\"For no of clusters =\", t+1, \" The average silhouette_score is :\", s_avg) "
   ]
  },
  {
   "cell_type": "code",
   "execution_count": 13,
   "metadata": {},
   "outputs": [
    {
     "data": {
      "text/plain": [
       "Text(0.5, 1.0, 'Silhouette Plot')"
      ]
     },
     "execution_count": 13,
     "metadata": {},
     "output_type": "execute_result"
    },
    {
     "data": {
      "image/png": "[encoded data removed]",
      "text/plain": [
       "<Figure size 432x288 with 1 Axes>"
      ]
     },
     "metadata": {
      "needs_background": "light"
     },
     "output_type": "display_data"
    }
   ],
   "source": [
    "plt.figure()\n",
    "plt.plot( range(2, n+1), saved_s)\n",
    "plt.xlabel('number of clusters (K)')\n",
    "plt.ylabel('Silhouette Corfficient')\n",
    "plt.title('Silhouette Plot')"
   ]
  },
  {
   "cell_type": "markdown",
   "metadata": {},
   "source": [
    "## Clearly from the plot it can be seen that K=2 gives the best cluster according to Silhouette Score"
   ]
  }
 ],
 "metadata": {
  "kernelspec": {
   "display_name": "Python 3",
   "language": "python",
   "name": "python3"
  },
  "language_info": {
   "codemirror_mode": {
    "name": "ipython",
    "version": 3
   },
   "file_extension": ".py",
   "mimetype": "text/x-python",
   "name": "python",
   "nbconvert_exporter": "python",
   "pygments_lexer": "ipython3",
   "version": "3.7.3"
  }
 },
 "nbformat": 4,
 "nbformat_minor": 2
}
